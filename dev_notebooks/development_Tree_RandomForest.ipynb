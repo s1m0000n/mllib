{
 "cells": [
  {
   "cell_type": "markdown",
   "id": "bc114f94",
   "metadata": {},
   "source": [
    "# Development haskell notebook: random forest"
   ]
  },
  {
   "cell_type": "code",
   "execution_count": 1,
   "id": "4e4a8c69",
   "metadata": {},
   "outputs": [],
   "source": [
    "import Mllib.Types"
   ]
  },
  {
   "cell_type": "code",
   "execution_count": 2,
   "id": "7c78eb80",
   "metadata": {},
   "outputs": [],
   "source": [
    "import Mllib.Tree.Decision"
   ]
  },
  {
   "cell_type": "markdown",
   "id": "680479f2",
   "metadata": {},
   "source": [
    "# Random forest parameters"
   ]
  },
  {
   "cell_type": "code",
   "execution_count": 5,
   "id": "9832c279",
   "metadata": {},
   "outputs": [],
   "source": [
    "-- | Decision tree parameters for setup\n",
    "data RandomForestParams = RandomForestParams\n",
    "    { nEstimators     :: Int      -- ^ The number of trees in the forest\n",
    "    \n",
    "    -- parameters for decision trees\n",
    "    , rGen            :: !StdGen  -- ^ Random generator\n",
    "    , maxDepth        :: !Int     -- ^ The maximum depth of the tree\n",
    "    , minSamplesSplit :: !Int     -- ^ The minimum number of samples required\n",
    "                                  -- to split a node\n",
    "    , minSamplesLeaf  :: !Int     -- ^ The minimum number of samples required \n",
    "                                  -- to be at a leaf\n",
    "    , maxFeatures     :: !Int     -- ^ The number of features to consider \n",
    "                                  -- when looking for the best split\n",
    "    }\n",
    "  deriving Show"
   ]
  },
  {
   "cell_type": "code",
   "execution_count": 7,
   "id": "b34beb24",
   "metadata": {},
   "outputs": [],
   "source": [
    "-- | Default parameters for decision tree\n",
    "forestSetup :: RandomForestParams\n",
    "forestSetup \n",
    "    = RandomForestParams\n",
    "        { nEstimators    = 100\n",
    "        , rGen           = mkStdGen 42\n",
    "        , maxDepth       = maxBound\n",
    "        , minSamplesSplit= 2\n",
    "        , minSamplesLeaf = 1\n",
    "        , maxFeatures    = -1\n",
    "        }"
   ]
  },
  {
   "cell_type": "markdown",
   "id": "7dd3b8e2",
   "metadata": {},
   "source": [
    "# Fit function"
   ]
  },
  {
   "cell_type": "code",
   "execution_count": null,
   "id": "a37ce7a3",
   "metadata": {},
   "outputs": [],
   "source": [
    "fitRandomForest\n",
    "    :: RandomForestParams -- ^ Random forest parameters\n",
    "    -> [Vector R]         -- ^ List of vectors\n",
    "    -> [Int]              -- ^ Labels of vectors\n",
    "fitRandomForest params"
   ]
  }
 ],
 "metadata": {
  "kernelspec": {
   "display_name": "Haskell",
   "language": "haskell",
   "name": "haskell"
  },
  "language_info": {
   "codemirror_mode": "ihaskell",
   "file_extension": ".hs",
   "mimetype": "text/x-haskell",
   "name": "haskell",
   "pygments_lexer": "Haskell",
   "version": "8.10.7"
  }
 },
 "nbformat": 4,
 "nbformat_minor": 5
}
