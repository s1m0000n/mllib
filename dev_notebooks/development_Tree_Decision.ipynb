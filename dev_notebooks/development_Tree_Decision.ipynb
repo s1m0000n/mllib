{
 "cells": [
  {
   "cell_type": "markdown",
   "id": "22c3b462",
   "metadata": {},
   "source": [
    "# Development haskell notebook: decision tree CART"
   ]
  },
  {
   "cell_type": "code",
   "execution_count": 1,
   "id": "3d934aea",
   "metadata": {},
   "outputs": [],
   "source": [
    "import Mllib.Types\n",
    "-- import Mllib.Metrics\n",
    "import Mllib.Utils.Features\n",
    "\n",
    "import Data.List (sortOn)\n",
    "import System.Random (randomR, newStdGen, randomRs)\n",
    "-- import Mllib.Tree.Decision"
   ]
  },
  {
   "cell_type": "code",
   "execution_count": 2,
   "id": "978d1938",
   "metadata": {},
   "outputs": [],
   "source": [
    "-- disable warnings\n",
    ":opt no-lint"
   ]
  },
  {
   "cell_type": "code",
   "execution_count": 3,
   "id": "f02dd174",
   "metadata": {},
   "outputs": [],
   "source": [
    ":r"
   ]
  },
  {
   "cell_type": "markdown",
   "id": "4a95452d",
   "metadata": {},
   "source": [
    "# Decision tree parameters"
   ]
  },
  {
   "cell_type": "code",
   "execution_count": 4,
   "id": "f690b196",
   "metadata": {},
   "outputs": [],
   "source": [
    "-- | Decision tree parameters for setup\n",
    "data DecisionTreeParams = DecisionTreeParams\n",
    "    { rGen            :: !StdGen  -- ^ Random generator\n",
    "    , randomSplitter  :: !Bool    -- ^ If True, then chooses the best random split\n",
    "                                  -- If False, then chooses the best split\n",
    "    , maxDepth        :: !Int     -- ^ The maximum depth of the tree\n",
    "    , minSamplesSplit :: !Int     -- ^ The minimum number of samples required\n",
    "                                  -- to split a node\n",
    "    , minSamplesLeaf  :: !Int     -- ^ The minimum number of samples required \n",
    "                                  -- to be at a leaf\n",
    "    , maxFeatures     :: !Int     -- ^ The number of features to consider \n",
    "                                  -- when looking for the best split\n",
    "    }\n",
    "  deriving Show"
   ]
  },
  {
   "cell_type": "code",
   "execution_count": 5,
   "id": "a3c543b0",
   "metadata": {},
   "outputs": [],
   "source": [
    "-- | Default parameters for decision tree\n",
    "treeSetup :: DecisionTreeParams\n",
    "treeSetup \n",
    "    = DecisionTreeParams\n",
    "        { rGen           = mkStdGen 42\n",
    "        , randomSplitter = False\n",
    "        , maxDepth       = maxBound\n",
    "        , minSamplesSplit= 2\n",
    "        , minSamplesLeaf = 1\n",
    "        , maxFeatures    = -1\n",
    "        }"
   ]
  },
  {
   "cell_type": "markdown",
   "id": "4a1558b1",
   "metadata": {},
   "source": [
    "# Computing impurity: Gini index"
   ]
  },
  {
   "cell_type": "code",
   "execution_count": 6,
   "id": "e88cfc1e",
   "metadata": {},
   "outputs": [],
   "source": [
    "-- | Possible splits\n",
    "--   Returns list of tuples with left and right groups respectively\n",
    "possibleSplits\n",
    "    :: [a]         -- ^ \n",
    "    -> [([a],[a])] -- ^\n",
    "possibleSplits list\n",
    "    = [(take i list, drop i list) | i <- [1..(length list - 1)]]"
   ]
  },
  {
   "cell_type": "code",
   "execution_count": 7,
   "id": "69e3a725",
   "metadata": {},
   "outputs": [
    {
     "data": {
      "text/plain": [
       "[([1],[2,3,4]),([1,2],[3,4]),([1,2,3],[4])]"
      ]
     },
     "metadata": {},
     "output_type": "display_data"
    }
   ],
   "source": [
    "possibleSplits [1,2,3,4]"
   ]
  },
  {
   "cell_type": "code",
   "execution_count": 8,
   "id": "a8bf5bc8",
   "metadata": {},
   "outputs": [],
   "source": [
    "-- | Possible splits with decision tree params\n",
    "-- Returns list of tuples with left and right groups respectively\n",
    "possibleSplitsWithParams\n",
    "    :: DecisionTreeParams\n",
    "    -> [a]         -- ^ given list\n",
    "    -> [([a],[a])]\n",
    "possibleSplitsWithParams params list = \n",
    "  let\n",
    "    minLen = minSamplesLeaf params\n",
    "    len = length list\n",
    "  in\n",
    "    [(take i list, drop i list) \n",
    "        | i <- [1..(len - 1)]\n",
    "        , i >= minLen\n",
    "        , (len - i) >= minLen\n",
    "    ]"
   ]
  },
  {
   "cell_type": "code",
   "execution_count": 9,
   "id": "c9cb524c",
   "metadata": {},
   "outputs": [
    {
     "data": {
      "text/plain": [
       "[([1],[2,3,4,5]),([1,2],[3,4,5]),([1,2,3],[4,5]),([1,2,3,4],[5])]"
      ]
     },
     "metadata": {},
     "output_type": "display_data"
    },
    {
     "data": {
      "text/plain": [
       "[([1,2],[3,4,5]),([1,2,3],[4,5])]"
      ]
     },
     "metadata": {},
     "output_type": "display_data"
    },
    {
     "data": {
      "text/plain": [
       "[]"
      ]
     },
     "metadata": {},
     "output_type": "display_data"
    }
   ],
   "source": [
    "possibleSplitsWithParams treeSetup{minSamplesLeaf=1} [1,2,3,4,5]\n",
    "possibleSplitsWithParams treeSetup{minSamplesLeaf=2} [1,2,3,4,5]\n",
    "possibleSplitsWithParams treeSetup{minSamplesLeaf=3} [1,2,3,4,5]"
   ]
  },
  {
   "cell_type": "code",
   "execution_count": 10,
   "id": "c86a0544",
   "metadata": {},
   "outputs": [],
   "source": [
    "-- | Impurity criteria\n",
    "type Criteria = [Double] -> Double  -- !working with proportions of classes in the group"
   ]
  },
  {
   "cell_type": "code",
   "execution_count": 11,
   "id": "2b6e9dae",
   "metadata": {},
   "outputs": [],
   "source": [
    "-- | Gini's impurity\n",
    "gini\n",
    "    :: [Double] -- ^ Proportions of classes\n",
    "    -> Double\n",
    "gini props = 1 - sum (map (**2) props)"
   ]
  },
  {
   "cell_type": "code",
   "execution_count": 12,
   "id": "efa4e47a",
   "metadata": {},
   "outputs": [],
   "source": [
    "-- | Number of occurrences of the element in the list\n",
    "countOccurrences\n",
    "    :: Eq a\n",
    "    => a   -- ^ element\n",
    "    -> [(b,a)] -- ^ list\n",
    "    -> Int\n",
    "countOccurrences x = length . filter (\\y -> x == snd y)"
   ]
  },
  {
   "cell_type": "code",
   "execution_count": 13,
   "id": "742f5a77",
   "metadata": {},
   "outputs": [],
   "source": [
    "-- | Proportions of given group according to class names\n",
    "-- Returns list of proportions\n",
    "proportions\n",
    "    :: [Int]      -- ^ class names\n",
    "    -> [(a, Int)] -- ^ a group where element is (vector, label)\n",
    "    -> [Double]\n",
    "proportions classes group = \n",
    "    [fromIntegral (countOccurrences cl group) / totalSize | cl <- classes]\n",
    "  where\n",
    "    totalSize = fromIntegral $ length group"
   ]
  },
  {
   "cell_type": "code",
   "execution_count": 14,
   "id": "de81278d",
   "metadata": {},
   "outputs": [],
   "source": [
    "-- | Compute impurity of the split according to the criteria\n",
    "-- ! Unique class names are needed\n",
    "computeImpurity\n",
    "    :: Criteria -- ^ impurity criteria\n",
    "    -> [Int]    -- ^ class names\n",
    "    -> ([(a, Int)] , [(a, Int)]) -- ^ split, tuple of lists or groups where element is (vector, label)\n",
    "    -> Double\n",
    "computeImpurity criteria uniqueClasses (lgroup, rgroup) = \n",
    "  let\n",
    "    totalSize = fromIntegral $ length lgroup + length rgroup\n",
    "    lGroupWeight = fromIntegral (length lgroup) / totalSize\n",
    "    rGroupWeight = fromIntegral (length rgroup) / totalSize\n",
    "  in\n",
    "    ((criteria . proportions uniqueClasses) lgroup) * lGroupWeight \n",
    "        + ((criteria . proportions uniqueClasses) rgroup) * rGroupWeight"
   ]
  },
  {
   "cell_type": "markdown",
   "id": "cab774b1",
   "metadata": {},
   "source": [
    "### Data and labels"
   ]
  },
  {
   "cell_type": "code",
   "execution_count": 15,
   "id": "68acf84a",
   "metadata": {},
   "outputs": [],
   "source": [
    "x = [[1, 1]\n",
    "    ,[2, 2]\n",
    "    ,[1, 3]\n",
    "    ,[3, 4]\n",
    "    ,[4, 3]\n",
    "    ]"
   ]
  },
  {
   "cell_type": "code",
   "execution_count": 16,
   "id": "5fdb7c5f",
   "metadata": {},
   "outputs": [],
   "source": [
    "y = [0\n",
    "    ,0\n",
    "    ,0\n",
    "    ,1\n",
    "    ,1\n",
    "    ]"
   ]
  },
  {
   "cell_type": "code",
   "execution_count": 17,
   "id": "a8a4d8b2",
   "metadata": {},
   "outputs": [],
   "source": [
    "z = zip x y"
   ]
  },
  {
   "cell_type": "code",
   "execution_count": 18,
   "id": "24899a9a",
   "metadata": {},
   "outputs": [],
   "source": [
    "x1 = [-1, -1, -1, -1]"
   ]
  },
  {
   "cell_type": "code",
   "execution_count": 19,
   "id": "6114eafb",
   "metadata": {},
   "outputs": [],
   "source": [
    "y1 = [1, 0, 1, 0]"
   ]
  },
  {
   "cell_type": "code",
   "execution_count": 20,
   "id": "91068417",
   "metadata": {},
   "outputs": [],
   "source": [
    "z1 = zip x1 y1"
   ]
  },
  {
   "cell_type": "markdown",
   "id": "cafdf7b0",
   "metadata": {},
   "source": [
    "### TEST"
   ]
  },
  {
   "cell_type": "code",
   "execution_count": 21,
   "id": "ff00de2f",
   "metadata": {},
   "outputs": [],
   "source": [
    "(_, classes) = countFeatures y"
   ]
  },
  {
   "cell_type": "code",
   "execution_count": 22,
   "id": "44162922",
   "metadata": {},
   "outputs": [
    {
     "data": {
      "text/plain": [
       "[0.4,0.26666666666666666,0.0,0.30000000000000004]"
      ]
     },
     "metadata": {},
     "output_type": "display_data"
    }
   ],
   "source": [
    "map (computeImpurity gini classes) (possibleSplits z)"
   ]
  },
  {
   "cell_type": "code",
   "execution_count": 23,
   "id": "2bf7e893",
   "metadata": {
    "scrolled": true
   },
   "outputs": [
    {
     "data": {
      "text/plain": [
       "[0.3333333333333333,0.5,0.3333333333333333]"
      ]
     },
     "metadata": {},
     "output_type": "display_data"
    }
   ],
   "source": [
    "map (computeImpurity gini classes) (possibleSplits z1)"
   ]
  },
  {
   "cell_type": "markdown",
   "id": "4e3f4df0",
   "metadata": {},
   "source": [
    "# Find best split"
   ]
  },
  {
   "cell_type": "code",
   "execution_count": 24,
   "id": "6317cfee",
   "metadata": {},
   "outputs": [],
   "source": [
    "-- | Find the best split \n",
    "-- There is no sorting\n",
    "-- Returns a split\n",
    "findBestSplit\n",
    "    :: [Int] -- ^ class names\n",
    "    -> [a]   -- ^ vectors\n",
    "    -> [Int] -- ^ labels\n",
    "    -> (Double                    -- ^ gini's impurity\n",
    "       ,([(a, Int)] , [(a, Int)]) -- ^ split or two groups where element is (vector, label)\n",
    "       ) \n",
    "findBestSplit uniqueClasses x y =\n",
    "  let\n",
    "    z = zip x y -- packing vectors with labels\n",
    "  in\n",
    "--     snd $ -- taking split\n",
    "    head $ -- taking minimum as (minImpurityValue, split)\n",
    "    -- TODO: if there are several equal values then choose random\n",
    "    sortOn fst $ -- sort by impurity value\n",
    "    zip -- packing impurity value and split\n",
    "      (map\n",
    "        (computeImpurity gini uniqueClasses) \n",
    "        (possibleSplits z)) \n",
    "      (possibleSplits z)"
   ]
  },
  {
   "cell_type": "markdown",
   "id": "1a706db3",
   "metadata": {},
   "source": [
    "### TEST"
   ]
  },
  {
   "cell_type": "code",
   "execution_count": 25,
   "id": "759fddb5",
   "metadata": {},
   "outputs": [
    {
     "data": {
      "text/plain": [
       "[([1,1],0),([2,2],0),([1,3],0),([3,4],1),([4,3],1)]"
      ]
     },
     "metadata": {},
     "output_type": "display_data"
    }
   ],
   "source": [
    "z"
   ]
  },
  {
   "cell_type": "code",
   "execution_count": 26,
   "id": "99e53141",
   "metadata": {},
   "outputs": [],
   "source": [
    "(_, uniqueClasses) = countFeatures y"
   ]
  },
  {
   "cell_type": "code",
   "execution_count": 27,
   "id": "cb65a271",
   "metadata": {
    "scrolled": true
   },
   "outputs": [
    {
     "data": {
      "text/plain": [
       "(0.0,([([1,1],0),([2,2],0),([1,3],0)],[([3,4],1),([4,3],1)]))"
      ]
     },
     "metadata": {},
     "output_type": "display_data"
    }
   ],
   "source": [
    "findBestSplit uniqueClasses x y"
   ]
  },
  {
   "cell_type": "markdown",
   "id": "c2e347b8",
   "metadata": {},
   "source": [
    "# Find best split by feature"
   ]
  },
  {
   "cell_type": "code",
   "execution_count": 28,
   "id": "a5ac06f9",
   "metadata": {},
   "outputs": [],
   "source": [
    "-- | Find the best split by feature at index\n",
    "-- It sorts vectors with labels before computing impurity\n",
    "-- Returns tuple of impurity and split\n",
    "findBestSplitByFeature\n",
    "    :: Int   -- ^ index of feature\n",
    "    -> [Int] -- ^ class names\n",
    "    -> [Vector R]   -- ^ vectors\n",
    "    -> [Int] -- ^ labels\n",
    "    -> (Double    -- ^ gini's impurity\n",
    "       , Int      -- ^ index of feature by which vectors were sorted\n",
    "       ,([(Vector R, Int)] , [(Vector R, Int)]) -- ^ split or two groups where element is (vector, label)\n",
    "       ) \n",
    "findBestSplitByFeature index uniqueClasses x y =\n",
    "  let\n",
    "    xLists = map toList x -- transform vectors to lists\n",
    "    -- TODO: look in HMatrix package:\n",
    "    --   can we avoid transformation via `atIndex` or `!` ?\n",
    "    zLists = sortOn ((!! index) . fst) (zip xLists y) -- packing transformed vecs with labels and sort\n",
    "    zVecs  = map (\\ (x, label) -> (fromList x, label)) zLists -- transform sorted lists to vectors\n",
    "  in\n",
    "    (\\(imp, split) -> (imp, index, split)) $ -- add information about index\n",
    "    head $ -- taking minimum as (minImpurityValue, split)\n",
    "    -- TODO: if there are several equal values then choose random\n",
    "    sortOn fst $ -- sort by impurity value\n",
    "    zip -- packing impurity value and split\n",
    "      (map\n",
    "        (computeImpurity gini uniqueClasses) \n",
    "        (possibleSplits zVecs))\n",
    "      (possibleSplits zVecs)"
   ]
  },
  {
   "cell_type": "code",
   "execution_count": 29,
   "id": "16e8a229",
   "metadata": {},
   "outputs": [],
   "source": [
    "-- | Find the best split by feature at index according to tree params\n",
    "-- It sorts vectors with labels before computing impurity\n",
    "-- Returns tuple of impurity and split\n",
    "findBestSplitByFeatureWithParams\n",
    "    :: Int   -- ^ index of feature\n",
    "    -> DecisionTreeParams -- ^ tree params\n",
    "    -> [Int] -- ^ class names\n",
    "    -> [Vector R]   -- ^ vectors\n",
    "    -> [Int] -- ^ labels\n",
    "    -> (Double    -- ^ gini's impurity\n",
    "       , Int      -- ^ index of feature by which vectors were sorted\n",
    "       ,([(Vector R, Int)] , [(Vector R, Int)]) -- ^ split or two groups where element is (vector, label)\n",
    "       ) \n",
    "findBestSplitByFeatureWithParams index params uniqueClasses x y =\n",
    "  let\n",
    "    xLists = map toList x -- transform vectors to lists\n",
    "    -- TODO: look in HMatrix package:\n",
    "    --   can we avoid transformation via `atIndex` or `!` ?\n",
    "    zLists = sortOn ((!! index) . fst) (zip xLists y) -- packing transformed vecs with labels and sort\n",
    "    zVecs  = map (\\ (x, label) -> (fromList x, label)) zLists -- transform sorted lists to vectors\n",
    "  in\n",
    "    (\\(imp, split) -> (imp, index, split)) $ -- add information about index\n",
    "    head $ -- taking minimum as (minImpurityValue, split)\n",
    "    -- TODO: if there are several equal values then choose random\n",
    "    sortOn fst $ -- sort by impurity value\n",
    "    zip -- packing impurity value and split\n",
    "      (map\n",
    "        (computeImpurity gini uniqueClasses) \n",
    "        (possibleSplitsWithParams params zVecs))\n",
    "      (possibleSplitsWithParams params zVecs)"
   ]
  },
  {
   "cell_type": "markdown",
   "id": "35a4b5e8",
   "metadata": {},
   "source": [
    "### TEST"
   ]
  },
  {
   "cell_type": "code",
   "execution_count": 30,
   "id": "d78aae7c",
   "metadata": {},
   "outputs": [],
   "source": [
    "xVec = map fromList x"
   ]
  },
  {
   "cell_type": "code",
   "execution_count": 31,
   "id": "f9d53dcb",
   "metadata": {
    "scrolled": true
   },
   "outputs": [
    {
     "data": {
      "text/plain": [
       "[0,0,0,1,1]"
      ]
     },
     "metadata": {},
     "output_type": "display_data"
    }
   ],
   "source": [
    "y"
   ]
  },
  {
   "cell_type": "code",
   "execution_count": 32,
   "id": "b48d3e32",
   "metadata": {
    "scrolled": true
   },
   "outputs": [
    {
     "data": {
      "text/plain": [
       "(0.0,0,([([1.0,1.0],0),([1.0,3.0],0),([2.0,2.0],0)],[([3.0,4.0],1),([4.0,3.0],1)]))"
      ]
     },
     "metadata": {},
     "output_type": "display_data"
    }
   ],
   "source": [
    "findBestSplitByFeature 0 uniqueClasses xVec y"
   ]
  },
  {
   "cell_type": "code",
   "execution_count": 33,
   "id": "cb1dfaf0",
   "metadata": {},
   "outputs": [
    {
     "data": {
      "text/plain": [
       "(0.0,1,([([1.0,1.0],0),([2.0,2.0],0),([1.0,3.0],0)],[([4.0,3.0],1),([3.0,4.0],1)]))"
      ]
     },
     "metadata": {},
     "output_type": "display_data"
    }
   ],
   "source": [
    "findBestSplitByFeature 1 uniqueClasses xVec y"
   ]
  },
  {
   "cell_type": "markdown",
   "id": "859b7b8f",
   "metadata": {},
   "source": [
    "# Compute border of given tuple: (imp, index, split)"
   ]
  },
  {
   "cell_type": "code",
   "execution_count": 34,
   "id": "1b92ee62",
   "metadata": {},
   "outputs": [],
   "source": [
    "computeBorder\n",
    "    :: (Double    -- ^ gini's impurity\n",
    "       , Int      -- ^ index of feature by which vectors were sorted\n",
    "       ,([(Vector R, Int)] , [(Vector R, Int)]) -- ^ split or two groups where element is (vector, label)\n",
    "       ) \n",
    "    -> R -- ^ border for predicate\n",
    "computeBorder (_, index, (lgroup, rgroup)) = (lastLeftValue + firstRightValue) / 2\n",
    "  where\n",
    "    lastLeftValue   = (!!index) $ toList $ fst $ last lgroup\n",
    "    firstRightValue = (!!index) $ toList $ fst $ head rgroup"
   ]
  },
  {
   "cell_type": "markdown",
   "id": "c085b6c6",
   "metadata": {},
   "source": [
    "### TEST"
   ]
  },
  {
   "cell_type": "code",
   "execution_count": 35,
   "id": "aab4b05a",
   "metadata": {},
   "outputs": [
    {
     "data": {
      "text/plain": [
       "(0.0,0,([([1.0,1.0],0),([1.0,3.0],0),([2.0,2.0],0)],[([3.0,4.0],1),([4.0,3.0],1)]))"
      ]
     },
     "metadata": {},
     "output_type": "display_data"
    }
   ],
   "source": [
    "indexTest1 = 0\n",
    "splitTest1 = findBestSplitByFeature indexTest1 uniqueClasses xVec y\n",
    "splitTest1"
   ]
  },
  {
   "cell_type": "code",
   "execution_count": 36,
   "id": "cad9f5bd",
   "metadata": {},
   "outputs": [
    {
     "data": {
      "text/plain": [
       "2.5"
      ]
     },
     "metadata": {},
     "output_type": "display_data"
    }
   ],
   "source": [
    "computeBorder splitTest1"
   ]
  },
  {
   "cell_type": "code",
   "execution_count": 37,
   "id": "6e41b2e9",
   "metadata": {},
   "outputs": [
    {
     "data": {
      "text/plain": [
       "(0.0,1,([([1.0,1.0],0),([2.0,2.0],0),([1.0,3.0],0)],[([4.0,3.0],1),([3.0,4.0],1)]))"
      ]
     },
     "metadata": {},
     "output_type": "display_data"
    }
   ],
   "source": [
    "indexTest2 = 1\n",
    "splitTest2 = findBestSplitByFeature indexTest2 uniqueClasses xVec y\n",
    "splitTest2"
   ]
  },
  {
   "cell_type": "code",
   "execution_count": 38,
   "id": "27549377",
   "metadata": {},
   "outputs": [
    {
     "data": {
      "text/plain": [
       "3.0"
      ]
     },
     "metadata": {},
     "output_type": "display_data"
    }
   ],
   "source": [
    "computeBorder splitTest2"
   ]
  },
  {
   "cell_type": "markdown",
   "id": "65669282",
   "metadata": {},
   "source": [
    "# Make the best split"
   ]
  },
  {
   "cell_type": "code",
   "execution_count": 39,
   "id": "8b68ab45",
   "metadata": {},
   "outputs": [],
   "source": [
    "-- | Make best split\n",
    "-- ! Sizes of vectors must be equal\n",
    "-- ! It evaluates all best splits but takes first with min impurity\n",
    "makeBestSplit\n",
    "    :: [Int]      -- ^ class names\n",
    "    -> [Vector R] -- ^ vectors\n",
    "    -> [Int]      -- ^ labels\n",
    "    -> (Double    -- ^ gini's impurity\n",
    "       , Int      -- ^ index of feature by which vectors were sorted\n",
    "       ,([(Vector R, Int)] , [(Vector R, Int)]) -- ^ split or two groups where element is (vector, label)\n",
    "       ) \n",
    "makeBestSplit uniqueClasses x y = -- map ,  findBestSplitByFeature [ | i <- 0..(vecSize-1)]\n",
    "  let\n",
    "    vecSize = size $ head xVec\n",
    "  in \n",
    "    head $ -- taking minimum as (minImpurityValue, index, split)\n",
    "    -- TODO: if there are several equal values then choose random\n",
    "    sortOn \n",
    "      (\\(imp, index, split) -> imp) -- sort by impurity value\n",
    "      [findBestSplitByFeature i uniqueClasses x y | i <- [0..(vecSize-1)]]"
   ]
  },
  {
   "cell_type": "code",
   "execution_count": 40,
   "id": "571744ea",
   "metadata": {},
   "outputs": [],
   "source": [
    "-- | Make splits for each feature of vectors\n",
    "makeAllBestSplits\n",
    "    :: [Int]      -- ^ class names\n",
    "    -> [Vector R] -- ^ vectors\n",
    "    -> [Int]      -- ^ labels\n",
    "    -> [(Double   -- ^ gini's impurity\n",
    "       , Int      -- ^ index of feature by which vectors were sorted\n",
    "       ,([(Vector R, Int)] , [(Vector R, Int)]) -- ^ split or two groups where element is (vector, label)\n",
    "       )] -- ^ list of splits for each feature\n",
    "makeAllBestSplits uniqueClasses x y =\n",
    "  let\n",
    "    vecSize = size $ head xVec\n",
    "  in \n",
    "    sortOn \n",
    "      (\\(imp, index, split) -> imp) -- sort by impurity value\n",
    "      [findBestSplitByFeature i uniqueClasses x y | i <- [0..(vecSize-1)]]"
   ]
  },
  {
   "cell_type": "code",
   "execution_count": 41,
   "id": "cd651259",
   "metadata": {},
   "outputs": [],
   "source": [
    "-- | Make splits for spicific features of vectors\n",
    "-- according to decision tree params\n",
    "makeBestSplitsForFeatures\n",
    "    :: DecisionTreeParams -- ^ tree parameters\n",
    "    -> [Int]      -- ^ class names\n",
    "    -> [Int]      -- ^ list of feature indices\n",
    "    -> [Vector R] -- ^ vectors\n",
    "    -> [Int]      -- ^ labels\n",
    "    -> [(Double   -- ^ gini's impurity\n",
    "       , Int      -- ^ index of feature by which vectors were sorted\n",
    "       ,([(Vector R, Int)] , [(Vector R, Int)]) -- ^ split or two groups where element is (vector, label)\n",
    "       )] -- ^ list of splits for each feature\n",
    "makeBestSplitsForFeatures params uniqueClasses indices x y  \n",
    "    = sortOn \n",
    "        (\\(imp, index, split) -> imp) -- sort by impurity value\n",
    "        [findBestSplitByFeatureWithParams i params uniqueClasses x y | i <- indices]"
   ]
  },
  {
   "cell_type": "markdown",
   "id": "65adf25c",
   "metadata": {},
   "source": [
    "### TEST"
   ]
  },
  {
   "cell_type": "code",
   "execution_count": 42,
   "id": "6ef6cbaf",
   "metadata": {},
   "outputs": [
    {
     "data": {
      "text/plain": [
       "[[1,1],[2,2],[1,3],[3,4],[4,3]]"
      ]
     },
     "metadata": {},
     "output_type": "display_data"
    },
    {
     "data": {
      "text/plain": [
       "[[1.0,1.0],[2.0,2.0],[1.0,3.0],[3.0,4.0],[4.0,3.0]]"
      ]
     },
     "metadata": {},
     "output_type": "display_data"
    },
    {
     "data": {
      "text/plain": [
       "[0,0,0,1,1]"
      ]
     },
     "metadata": {},
     "output_type": "display_data"
    }
   ],
   "source": [
    "x\n",
    "xVec\n",
    "y"
   ]
  },
  {
   "cell_type": "code",
   "execution_count": 43,
   "id": "4219b350",
   "metadata": {},
   "outputs": [
    {
     "data": {
      "text/plain": [
       "[0,1]"
      ]
     },
     "metadata": {},
     "output_type": "display_data"
    }
   ],
   "source": [
    "(_, uniqueClasses) = countFeatures y\n",
    "uniqueClasses"
   ]
  },
  {
   "cell_type": "code",
   "execution_count": 44,
   "id": "4a1094a4",
   "metadata": {
    "scrolled": true
   },
   "outputs": [
    {
     "data": {
      "text/plain": [
       "(0.0,0,([([1.0,1.0],0),([1.0,3.0],0),([2.0,2.0],0)],[([3.0,4.0],1),([4.0,3.0],1)]))"
      ]
     },
     "metadata": {},
     "output_type": "display_data"
    }
   ],
   "source": [
    "makeBestSplit uniqueClasses xVec y"
   ]
  },
  {
   "cell_type": "code",
   "execution_count": 45,
   "id": "6272115f",
   "metadata": {},
   "outputs": [
    {
     "data": {
      "text/plain": [
       "(0.0,0,([([1.0,1.0],0),([1.0,3.0],0),([2.0,2.0],0)],[([3.0,4.0],1),([4.0,3.0],1)]))"
      ]
     },
     "metadata": {},
     "output_type": "display_data"
    },
    {
     "data": {
      "text/plain": [
       "(0.0,1,([([1.0,1.0],0),([2.0,2.0],0),([1.0,3.0],0)],[([4.0,3.0],1),([3.0,4.0],1)]))"
      ]
     },
     "metadata": {},
     "output_type": "display_data"
    }
   ],
   "source": [
    "[split1, split2] = makeAllBestSplits uniqueClasses xVec y\n",
    "split1\n",
    "split2"
   ]
  },
  {
   "cell_type": "markdown",
   "id": "7e14b025",
   "metadata": {},
   "source": [
    "# Support functions"
   ]
  },
  {
   "cell_type": "code",
   "execution_count": 46,
   "id": "9eb42ad3",
   "metadata": {},
   "outputs": [],
   "source": [
    "-- TODO: this is needed if we want to choose from all best splits with equal impurity\n",
    "-- ? finish it\n",
    "getAllMinElemsFromSortedList\n",
    "    :: Ord b\n",
    "    => (a -> b)\n",
    "    -> [a]\n",
    "    -> [a]\n",
    "getAllMinElemsFromSortedList getElem (x:xs) = (x:xs)"
   ]
  },
  {
   "cell_type": "code",
   "execution_count": 47,
   "id": "68f9545b",
   "metadata": {},
   "outputs": [],
   "source": [
    "-- | Choose one element from the list randomly\n",
    "chooseRandomElem\n",
    "    :: [a]    -- ^ List\n",
    "    -> StdGen -- ^ RandomGen\n",
    "    -> a\n",
    "chooseRandomElem xs rGen \n",
    "    | len == 1  = xs !! 0\n",
    "    | len >  1  = xs !! rIndex\n",
    "    | otherwise = error \"ERR: chooseRandomElem: null list\"\n",
    "  where\n",
    "    len = length xs\n",
    "    (rIndex, _) = randomR (0, (len-1)) rGen"
   ]
  },
  {
   "cell_type": "code",
   "execution_count": 48,
   "id": "c9c99b4f",
   "metadata": {},
   "outputs": [],
   "source": [
    "-- | Support function. Returns unique indices from infinite sequence.\n",
    "-- !!! May get stuck in an infinite loop,\n",
    "-- if required number of unique elements \n",
    "-- more than total number of unique elements.\n",
    "-- TODO: make it safer\n",
    "takeUniqueIndices\n",
    "    :: Eq a \n",
    "    => Int -- ^ Number of indices\n",
    "    -> [a] -- ^ Sequence of random indices\n",
    "    -> [a] \n",
    "takeUniqueIndices n list = takeUnique n list []\n",
    "  where\n",
    "    takeUnique 0 xs ys = ys\n",
    "    takeUnique n (x:xs) ys\n",
    "        | (elem x ys) = takeUnique n xs ys\n",
    "        | otherwise   = takeUnique (pred n) xs (x:ys)"
   ]
  },
  {
   "cell_type": "code",
   "execution_count": 49,
   "id": "5209d146",
   "metadata": {},
   "outputs": [],
   "source": [
    "-- | Support function. Returns unique indices from infinite sequence except one elem. \n",
    "-- !!! May get stuck in an infinite loop,\n",
    "-- if required number of unique elements \n",
    "-- more than total number of unique elements.\n",
    "-- TODO: make it safer\n",
    "takeUniqueExceptElem\n",
    "    :: Eq a \n",
    "    => Int -- ^ Number of indices\n",
    "    -> [a] -- ^ Sequence of random indices\n",
    "    -> a   -- ^ Except this element\n",
    "    -> [a] \n",
    "takeUniqueExceptElem n list ex = takeUnique n list ex []\n",
    "  where\n",
    "    takeUnique 0 xs ex ys = ys\n",
    "    takeUnique n (x:xs) ex ys\n",
    "        | (elem x ys) || (x == ex) \n",
    "            = takeUnique n xs ex ys\n",
    "        | otherwise\n",
    "            = takeUnique (pred n) xs ex (x:ys)"
   ]
  },
  {
   "cell_type": "markdown",
   "id": "319d3b1b",
   "metadata": {},
   "source": [
    "### TEST"
   ]
  },
  {
   "cell_type": "code",
   "execution_count": 50,
   "id": "ef08d0b1",
   "metadata": {
    "scrolled": true
   },
   "outputs": [
    {
     "data": {
      "text/plain": [
       "1"
      ]
     },
     "metadata": {},
     "output_type": "display_data"
    }
   ],
   "source": [
    "gen <- newStdGen\n",
    "chooseRandomElem [1,2,3,4,5] gen"
   ]
  },
  {
   "cell_type": "code",
   "execution_count": 51,
   "id": "f54ad413",
   "metadata": {
    "scrolled": true
   },
   "outputs": [
    {
     "data": {
      "text/plain": [
       "(0.0,0,([([1.0,1.0],0),([1.0,3.0],0),([2.0,2.0],0)],[([3.0,4.0],1),([4.0,3.0],1)]))"
      ]
     },
     "metadata": {},
     "output_type": "display_data"
    }
   ],
   "source": [
    "gen <- newStdGen\n",
    "chooseRandomElem (makeAllBestSplits uniqueClasses xVec y) gen"
   ]
  },
  {
   "cell_type": "code",
   "execution_count": 52,
   "id": "23363839",
   "metadata": {
    "scrolled": true
   },
   "outputs": [
    {
     "data": {
      "text/plain": [
       "[5,4,8,7,0]"
      ]
     },
     "metadata": {},
     "output_type": "display_data"
    }
   ],
   "source": [
    "gen <- newStdGen\n",
    "takeUniqueIndices 5 (randomRs (0, 10 - 1) gen)"
   ]
  },
  {
   "cell_type": "code",
   "execution_count": 53,
   "id": "65a72ab0",
   "metadata": {
    "scrolled": true
   },
   "outputs": [
    {
     "data": {
      "text/plain": [
       "[2,3,4]"
      ]
     },
     "metadata": {},
     "output_type": "display_data"
    }
   ],
   "source": [
    "gen <- newStdGen\n",
    "takeUniqueExceptElem 3 (randomRs (0, 5 - 1) gen) 0"
   ]
  },
  {
   "cell_type": "markdown",
   "id": "ab362294",
   "metadata": {},
   "source": [
    "# Decision tree"
   ]
  },
  {
   "cell_type": "code",
   "execution_count": 54,
   "id": "5b5d6460",
   "metadata": {},
   "outputs": [],
   "source": [
    "data DecisionTree =\n",
    "    DecisionTreeNode\n",
    "        { params         :: !DecisionTreeParams -- ^ Parameters for splitting  \n",
    "        \n",
    "        , currentDepth   :: !Int        -- ^ Current depth of the tree\n",
    "        , vectorNumber   :: !Int        -- ^ Number of vectors\n",
    "        , classesNumber  :: !Int        -- ^ Number of classes\n",
    "        , classes        :: ![Int]      -- ^ Classes names\n",
    "\n",
    "        , featureIndex   :: !Int         -- ^ Index of feature for the node condition\n",
    "        , nodeCondition  :: !Double      -- ^ \n",
    "        \n",
    "        , subForest      :: !(DecisionTree, DecisionTree) -- ^ \n",
    "        }\n",
    "    | DecisionTreeLeaf\n",
    "        { params         :: !DecisionTreeParams -- ^ Parameters for splitting              \n",
    "        \n",
    "        , currentDepth   :: !Int        -- ^ Current depth of the tree\n",
    "        , vectorNumber   :: !Int        -- ^ Number of vectors\n",
    "        , classesNumber  :: !Int        -- ^ Number of classes\n",
    "        , classes        :: ![Int]      -- ^ Classes names\n",
    "        \n",
    "        , classLabel     :: !Int        -- ^ Result class\n",
    "        \n",
    "        , vectors        :: [Vector R] -- ^ List of vectors\n",
    "        , labels         :: [Int]      -- ^ Labels of vectors\n",
    "        }"
   ]
  },
  {
   "cell_type": "code",
   "execution_count": 55,
   "id": "cb15c451",
   "metadata": {},
   "outputs": [],
   "source": [
    "instance Show DecisionTree where\n",
    "    show (DecisionTreeLeaf params currentDepth vectorNumber classesNumber classes classLabel vectors labels) =\n",
    "        \"#TreeLeaf curDepth: \" ++ show currentDepth ++ \n",
    "        \" classLabel: \" ++ show classLabel ++ \n",
    "        \" vectors: \" ++ show vectors ++ \n",
    "        \" labels: \" ++ show labels\n",
    "    show (DecisionTreeNode params currentDepth vectorNumber classesNumber classes featureIndex nodeCondition (lTree, rTree)) =\n",
    "        \"#TreeNode curDepth: \" ++ show currentDepth ++ \n",
    "        \" predicate: \" ++ \"x\" ++ show featureIndex ++ \" < \"++ show nodeCondition ++\n",
    "              \"\\n\" ++ concat (replicate (currentDepth+1) \"  \") ++ \"#Left\" ++ show lTree ++\n",
    "              \"\\n\" ++ concat (replicate (currentDepth+1) \"  \") ++ \"#Right\" ++ show rTree"
   ]
  },
  {
   "cell_type": "code",
   "execution_count": 56,
   "id": "9f17fd47",
   "metadata": {},
   "outputs": [],
   "source": [
    "-- | Validation of decision tree parameters\n",
    "-- Params must make sense\n",
    "validateParams\n",
    "    :: DecisionTreeParams -- ^ Tree parameters\n",
    "    -> Int                -- ^ Dimension of vectors\n",
    "    -> DecisionTreeParams\n",
    "validateParams params dimension\n",
    "    -- TODO: add more checks for errors\n",
    "    | maxFeatures params == (-1)\n",
    "        = params{ maxFeatures=(truncate (sqrt (fromIntegral dimension))) }\n",
    "    | maxFeatures params < 1\n",
    "        = error \"ERR: invalid params\"\n",
    "    | otherwise\n",
    "        = params"
   ]
  },
  {
   "cell_type": "code",
   "execution_count": 57,
   "id": "635592df",
   "metadata": {},
   "outputs": [],
   "source": [
    "-- | Check stop conditions of decision tree\n",
    "checkStopCond\n",
    "    :: DecisionTreeParams -- ^ Tree parameters\n",
    "    -> Int                -- ^ Current depth\n",
    "    -> [Vector R]         -- ^ List of vectors\n",
    "    -> [Int]              -- ^ Labels of vectors\n",
    "    -> Bool\n",
    "checkStopCond params curDepth x y = \n",
    "    (maxDepth params) == curDepth\n",
    "    || classesNumber == 1\n",
    "    || lenX == 1\n",
    "    || lenX < (minSamplesSplit params)\n",
    "    || lenX < (2 * minSamplesLeaf params)\n",
    "  where\n",
    "    (classesNumber, classes) = countFeatures y\n",
    "    lenX = length x"
   ]
  },
  {
   "cell_type": "code",
   "execution_count": 58,
   "id": "2c0cf071",
   "metadata": {},
   "outputs": [],
   "source": [
    "-- | Get a classification label by majority vote\n",
    "mode\n",
    "    :: [Int] -- ^ Names of classes\n",
    "    -> [Int] -- ^ Labels of vectors\n",
    "    -> Int\n",
    "mode classes y = \n",
    "    fst $ last $ -- take class label of maximum\n",
    "    -- TODO: solve problem with several maximums\n",
    "    sortOn (snd) -- sort by quantity\n",
    "    [(cl, length (filter (==cl) y)) | cl <- classes] -- take class label and make tuple with its quantity"
   ]
  },
  {
   "cell_type": "code",
   "execution_count": 59,
   "id": "6b050a5f",
   "metadata": {},
   "outputs": [],
   "source": [
    "-- | Generate a list of features for splits\n",
    "-- according to the index of previous split\n",
    "generateFeatures\n",
    "    :: DecisionTreeParams -- ^ tree parameters\n",
    "    -> Int        -- ^ feature index of previous split\n",
    "    -> Int        -- ^ dimension of vectors\n",
    "    -> [Int]      -- ^ labels\n",
    "generateFeatures params prevIndex dimension \n",
    "    | prevIndex == -1 \n",
    "        -- then it is the first split, we can consider all features\n",
    "        = takeUniqueIndices\n",
    "            (maxFeatures params)\n",
    "            (randomRs (0, dimension - 1) (rGen params))\n",
    "    | dimension == 1\n",
    "        -- then split by the same feature index, it is 0\n",
    "        = [0]\n",
    "    | maxFeatures params == dimension \n",
    "        -- then take all indices except the previous\n",
    "        = filter (/= prevIndex) $ [0..(dimension-1)]\n",
    "    | maxFeatures params <  dimension\n",
    "        -- then we can exclude previous index\n",
    "        = takeUniqueExceptElem -- take elements\n",
    "            (maxFeatures params) -- number of elements\n",
    "            (randomRs (0, dimension - 1) (rGen params)) -- random sequence\n",
    "            prevIndex -- except this element\n",
    "    | otherwise\n",
    "        = error \"ERR: generateFeatures: maxFeatures > dimension of vector\""
   ]
  },
  {
   "cell_type": "code",
   "execution_count": 60,
   "id": "718492e4",
   "metadata": {},
   "outputs": [],
   "source": [
    "-- | Make split according to decision tree params and feature index of previous split\n",
    "makeSplit\n",
    "    :: DecisionTreeParams -- ^ tree parameters\n",
    "    -> Int        -- ^ feature index of previous split\n",
    "    -> [Int]      -- ^ class names\n",
    "    -> [Vector R] -- ^ vectors\n",
    "    -> [Int]      -- ^ labels\n",
    "    -> (Double    -- ^ gini's impurity\n",
    "       , Int      -- ^ index of feature by which vectors were sorted\n",
    "       ,([(Vector R, Int)] , [(Vector R, Int)]) -- ^ split or two groups where element is (vector, label)\n",
    "       ) -- ^ split\n",
    "makeSplit params prevIndex uniqueClasses x y \n",
    "    | randomSplitter params \n",
    "        = chooseRandomElem \n",
    "            (makeBestSplitsForFeatures params uniqueClasses features x y) \n",
    "            (rGen params)\n",
    "    | otherwise \n",
    "        = head\n",
    "            (makeBestSplitsForFeatures params uniqueClasses features x y)\n",
    "  where\n",
    "    gen      = rGen params\n",
    "    dimension = size $ head x\n",
    "    features = generateFeatures params prevIndex dimension"
   ]
  },
  {
   "cell_type": "code",
   "execution_count": 61,
   "id": "340097f1",
   "metadata": {},
   "outputs": [],
   "source": [
    "-- | Main internal function from `fitDecisionTree`\n",
    "-- Builds decision tree node or leaf according to stop conditions\n",
    "buildDecisionTree\n",
    "    :: DecisionTreeParams -- ^ Tree parameters\n",
    "    -> Int                -- ^ Current depth\n",
    "    -> Int                -- ^ Feature index of previous split\n",
    "    -> [Vector R]         -- ^ List of vectors\n",
    "    -> [Int]              -- ^ Labels of vectors\n",
    "    -> DecisionTree\n",
    "buildDecisionTree params curDepth prevIndex x y \n",
    "    | checkStopCond params curDepth x y = \n",
    "        DecisionTreeLeaf\n",
    "            { params = params\n",
    "\n",
    "            , currentDepth = curDepth\n",
    "            , vectorNumber = length x\n",
    "            , classesNumber = classesNumber\n",
    "            , classes = classes\n",
    "\n",
    "            , classLabel = mode classes y\n",
    "\n",
    "            , vectors = x\n",
    "            , labels = y\n",
    "            }\n",
    "    | otherwise = \n",
    "        DecisionTreeNode\n",
    "            { params = params\n",
    "\n",
    "            , currentDepth = curDepth\n",
    "            , vectorNumber = length x\n",
    "            , classesNumber = classesNumber\n",
    "            , classes = classes\n",
    "\n",
    "            , featureIndex = index\n",
    "            , nodeCondition = computeBorder split\n",
    "\n",
    "            , subForest = \n",
    "                (buildDecisionTree params (succ curDepth) index xLeft  yLeft\n",
    "                ,buildDecisionTree params (succ curDepth) index xRight yRight)\n",
    "            }\n",
    "  where\n",
    "    (classesNumber, classes) = countFeatures y\n",
    "    split = makeSplit params prevIndex classes x y\n",
    "    (_, index, (lGroup, rGroup)) = split\n",
    "    (xLeft, yLeft) = unzip lGroup\n",
    "    (xRight, yRight) = unzip rGroup"
   ]
  },
  {
   "cell_type": "markdown",
   "id": "197f88a9",
   "metadata": {},
   "source": [
    "### Fit function"
   ]
  },
  {
   "cell_type": "code",
   "execution_count": 62,
   "id": "14b16aea",
   "metadata": {},
   "outputs": [],
   "source": [
    "-- | Decision tree fit function\n",
    "fitDecisionTree \n",
    "    :: DecisionTreeParams -- ^ Tree parameters\n",
    "    -> [Vector R]         -- ^ List of vectors\n",
    "    -> [Int]              -- ^ Labels of vectors\n",
    "    -> DecisionTree\n",
    "fitDecisionTree params x y \n",
    "    = buildDecisionTree (validateParams params dimension) 1{-current depth-} (-1){-feature index-} x y\n",
    "  where\n",
    "    dimension = size $ head x"
   ]
  },
  {
   "cell_type": "markdown",
   "id": "cd04c101",
   "metadata": {},
   "source": [
    "### TEST"
   ]
  },
  {
   "cell_type": "code",
   "execution_count": 63,
   "id": "eaf9e3b2",
   "metadata": {},
   "outputs": [
    {
     "data": {
      "text/plain": [
       "7"
      ]
     },
     "metadata": {},
     "output_type": "display_data"
    }
   ],
   "source": [
    "x = [[1, 1]\n",
    "    ,[2, 2]\n",
    "    ,[1, 3]\n",
    "    ,[3, 4]\n",
    "    ,[4, 3.5]\n",
    "    ,[6,6]\n",
    "    ,[9,9]\n",
    "    ]\n",
    "length x"
   ]
  },
  {
   "cell_type": "code",
   "execution_count": 64,
   "id": "3cac9eea",
   "metadata": {},
   "outputs": [
    {
     "data": {
      "text/plain": [
       "7"
      ]
     },
     "metadata": {},
     "output_type": "display_data"
    }
   ],
   "source": [
    "y = [0\n",
    "    ,1\n",
    "    ,1\n",
    "    ,2\n",
    "    ,2\n",
    "    ,3\n",
    "    ,3\n",
    "    ]\n",
    "length y"
   ]
  },
  {
   "cell_type": "code",
   "execution_count": 65,
   "id": "0b7fb339",
   "metadata": {},
   "outputs": [
    {
     "data": {
      "text/plain": [
       "[[1.0,1.0],[2.0,2.0],[1.0,3.0],[3.0,4.0],[4.0,3.5],[6.0,6.0],[9.0,9.0]]"
      ]
     },
     "metadata": {},
     "output_type": "display_data"
    }
   ],
   "source": [
    "x"
   ]
  },
  {
   "cell_type": "code",
   "execution_count": 66,
   "id": "d528438e",
   "metadata": {},
   "outputs": [
    {
     "data": {
      "text/plain": [
       "[0,1,1,2,2,3,3]"
      ]
     },
     "metadata": {},
     "output_type": "display_data"
    }
   ],
   "source": [
    "y"
   ]
  },
  {
   "cell_type": "code",
   "execution_count": 67,
   "id": "56a0a2fd",
   "metadata": {
    "scrolled": true
   },
   "outputs": [
    {
     "data": {
      "text/plain": [
       "#TreeNode curDepth: 1 predicate: x0 < 5.0\n",
       "    #Left#TreeNode curDepth: 2 predicate: x1 < 3.25\n",
       "      #Left#TreeNode curDepth: 3 predicate: x0 < 1.0\n",
       "        #Left#TreeLeaf curDepth: 4 classLabel: 0 vectors: [[1.0,1.0]] labels: [0]\n",
       "        #Right#TreeLeaf curDepth: 4 classLabel: 1 vectors: [[1.0,3.0],[2.0,2.0]] labels: [1,1]\n",
       "      #Right#TreeLeaf curDepth: 3 classLabel: 2 vectors: [[4.0,3.5],[3.0,4.0]] labels: [2,2]\n",
       "    #Right#TreeLeaf curDepth: 2 classLabel: 3 vectors: [[6.0,6.0],[9.0,9.0]] labels: [3,3]"
      ]
     },
     "metadata": {},
     "output_type": "display_data"
    }
   ],
   "source": [
    "gen <- newStdGen\n",
    "fitDecisionTree treeSetup {rGen=gen, randomSplitter=False, minSamplesLeaf=1} (map vector x) y"
   ]
  },
  {
   "cell_type": "code",
   "execution_count": 68,
   "id": "b466c544",
   "metadata": {
    "scrolled": true
   },
   "outputs": [
    {
     "data": {
      "text/plain": [
       "7"
      ]
     },
     "metadata": {},
     "output_type": "display_data"
    },
    {
     "data": {
      "text/plain": [
       "7"
      ]
     },
     "metadata": {},
     "output_type": "display_data"
    }
   ],
   "source": [
    "x1 =\n",
    "    [[1  , 1]\n",
    "    ,[1  , 2]\n",
    "    ,[3  , 1.5]\n",
    "    ,[1.5, 4]\n",
    "    ,[3  , 4]\n",
    "    ,[4  , 3.5]\n",
    "    ,[4 , 1]\n",
    "    ]\n",
    "length x1\n",
    "y1 =\n",
    "    [1\n",
    "    ,1\n",
    "    ,1\n",
    "    ,2\n",
    "    ,2\n",
    "    ,2\n",
    "    ,2\n",
    "    ]\n",
    "length y1"
   ]
  },
  {
   "cell_type": "code",
   "execution_count": 69,
   "id": "6182858a",
   "metadata": {
    "scrolled": true
   },
   "outputs": [
    {
     "data": {
      "text/plain": [
       "#TreeNode curDepth: 1 predicate: x1 < 2.75\n",
       "    #Left#TreeNode curDepth: 2 predicate: x0 < 3.5\n",
       "      #Left#TreeLeaf curDepth: 3 classLabel: 1 vectors: [[1.0,1.0],[1.0,2.0],[3.0,1.5]] labels: [1,1,1]\n",
       "      #Right#TreeLeaf curDepth: 3 classLabel: 2 vectors: [[4.0,1.0]] labels: [2]\n",
       "    #Right#TreeLeaf curDepth: 2 classLabel: 2 vectors: [[4.0,3.5],[1.5,4.0],[3.0,4.0]] labels: [2,2,2]"
      ]
     },
     "metadata": {},
     "output_type": "display_data"
    }
   ],
   "source": [
    "gen <- newStdGen\n",
    "fitDecisionTree treeSetup {rGen=gen, randomSplitter=False} (map vector x1) y1"
   ]
  },
  {
   "cell_type": "code",
   "execution_count": 70,
   "id": "8cbc29d0",
   "metadata": {
    "scrolled": true
   },
   "outputs": [
    {
     "data": {
      "text/plain": [
       "#TreeNode curDepth: 1 predicate: x1 < 2.75\n",
       "    #Left#TreeNode curDepth: 2 predicate: x0 < 3.5\n",
       "      #Left#TreeLeaf curDepth: 3 classLabel: 1 vectors: [[1.0,1.0],[1.0,2.0],[3.0,1.5]] labels: [1,1,1]\n",
       "      #Right#TreeLeaf curDepth: 3 classLabel: 2 vectors: [[4.0,1.0]] labels: [2]\n",
       "    #Right#TreeLeaf curDepth: 2 classLabel: 2 vectors: [[4.0,3.5],[1.5,4.0],[3.0,4.0]] labels: [2,2,2]"
      ]
     },
     "metadata": {},
     "output_type": "display_data"
    }
   ],
   "source": [
    "gen <- newStdGen\n",
    "fitDecisionTree treeSetup {rGen=gen, randomSplitter=True} (map vector x1) y1"
   ]
  },
  {
   "cell_type": "markdown",
   "id": "03d486f9",
   "metadata": {},
   "source": [
    "# Predict"
   ]
  },
  {
   "cell_type": "code",
   "execution_count": 71,
   "id": "ce784b53",
   "metadata": {},
   "outputs": [],
   "source": [
    "{-# LANGUAGE NamedFieldPuns #-}"
   ]
  },
  {
   "cell_type": "code",
   "execution_count": 72,
   "id": "0cc72b94",
   "metadata": {},
   "outputs": [],
   "source": [
    "-- Predict class label for one vector\n",
    "predictElem\n",
    "    :: DecisionTree     -- ^ Fitted decision tree\n",
    "    -> Vector R         -- ^ Vector\n",
    "    -> Int              -- ^ Predicted label for vector\n",
    "predictElem tree x = case tree of\n",
    "    DecisionTreeLeaf {classLabel} \n",
    "        -> classLabel\n",
    "    DecisionTreeNode {featureIndex, nodeCondition, subForest = (lTree, rTree)} \n",
    "        | xi < nodeCondition -> predictElem lTree x\n",
    "        | otherwise          -> predictElem rTree x\n",
    "      where\n",
    "        xi = (toList x) !! featureIndex"
   ]
  },
  {
   "cell_type": "code",
   "execution_count": 73,
   "id": "bce9975a",
   "metadata": {},
   "outputs": [],
   "source": [
    "-- Predict class labels for vectors\n",
    "predict\n",
    "    :: DecisionTree     -- ^ Fitted decision tree\n",
    "    -> [Vector R]       -- ^ Vectors\n",
    "    -> [Int]            -- ^ Predicted labels for vectors\n",
    "predict tree x = map (predictElem tree) x"
   ]
  },
  {
   "cell_type": "markdown",
   "id": "0c033cf6",
   "metadata": {},
   "source": [
    "### TEST"
   ]
  },
  {
   "cell_type": "code",
   "execution_count": 74,
   "id": "7eca7adc",
   "metadata": {},
   "outputs": [],
   "source": [
    "x = [[0, 0]\n",
    "    ,[1, 1]\n",
    "    ]\n",
    "\n",
    "y = [0, 1]\n",
    "\n",
    "xTest = [[2, 2]]"
   ]
  },
  {
   "cell_type": "code",
   "execution_count": 75,
   "id": "2e2a1cae",
   "metadata": {},
   "outputs": [
    {
     "data": {
      "text/plain": [
       "#TreeNode curDepth: 1 predicate: x0 < 0.5\n",
       "    #Left#TreeLeaf curDepth: 2 classLabel: 0 vectors: [[0.0,0.0]] labels: [0]\n",
       "    #Right#TreeLeaf curDepth: 2 classLabel: 1 vectors: [[1.0,1.0]] labels: [1]"
      ]
     },
     "metadata": {},
     "output_type": "display_data"
    }
   ],
   "source": [
    "tree = fitDecisionTree treeSetup (map vector x) y\n",
    "tree"
   ]
  },
  {
   "cell_type": "code",
   "execution_count": 76,
   "id": "1207e180",
   "metadata": {},
   "outputs": [
    {
     "data": {
      "text/plain": [
       "[1]"
      ]
     },
     "metadata": {},
     "output_type": "display_data"
    }
   ],
   "source": [
    "predict tree (map vector xTest)"
   ]
  },
  {
   "cell_type": "code",
   "execution_count": 77,
   "id": "66d5f654",
   "metadata": {},
   "outputs": [
    {
     "data": {
      "text/plain": [
       "7"
      ]
     },
     "metadata": {},
     "output_type": "display_data"
    },
    {
     "data": {
      "text/plain": [
       "7"
      ]
     },
     "metadata": {},
     "output_type": "display_data"
    }
   ],
   "source": [
    "x =\n",
    "    [[1  , 1]\n",
    "    ,[1  , 2]\n",
    "    ,[3  , 1.5]\n",
    "    ,[1.5, 4]\n",
    "    ,[3  , 4]\n",
    "    ,[4  , 3.5]\n",
    "    ,[4 , 1.2]\n",
    "    ]\n",
    "length x\n",
    "y =\n",
    "    [1\n",
    "    ,1\n",
    "    ,1\n",
    "    ,2\n",
    "    ,2\n",
    "    ,2\n",
    "    ,2\n",
    "    ]\n",
    "length y"
   ]
  },
  {
   "cell_type": "code",
   "execution_count": 78,
   "id": "fee2b30f",
   "metadata": {
    "scrolled": false
   },
   "outputs": [
    {
     "data": {
      "text/plain": [
       "#TreeNode curDepth: 1 predicate: x0 < 3.0\n",
       "    #Left#TreeNode curDepth: 2 predicate: x1 < 3.0\n",
       "      #Left#TreeLeaf curDepth: 3 classLabel: 1 vectors: [[1.0,1.0],[3.0,1.5],[1.0,2.0]] labels: [1,1,1]\n",
       "      #Right#TreeLeaf curDepth: 3 classLabel: 2 vectors: [[1.5,4.0]] labels: [2]\n",
       "    #Right#TreeLeaf curDepth: 2 classLabel: 2 vectors: [[3.0,4.0],[4.0,3.5],[4.0,1.2]] labels: [2,2,2]"
      ]
     },
     "metadata": {},
     "output_type": "display_data"
    }
   ],
   "source": [
    "gen <- newStdGen\n",
    "tree = fitDecisionTree treeSetup {rGen=gen, randomSplitter=True} (map vector x) y\n",
    "tree"
   ]
  },
  {
   "cell_type": "code",
   "execution_count": 79,
   "id": "f08dc002",
   "metadata": {
    "scrolled": true
   },
   "outputs": [
    {
     "data": {
      "text/plain": [
       "#TreeNode curDepth: 1 predicate: x1 < 2.75\n",
       "    #Left#TreeNode curDepth: 2 predicate: x0 < 2.0\n",
       "      #Left#TreeLeaf curDepth: 3 classLabel: 1 vectors: [[1.0,1.0],[1.0,2.0]] labels: [1,1]\n",
       "      #Right#TreeLeaf curDepth: 3 classLabel: 2 vectors: [[3.0,1.5],[4.0,1.2]] labels: [1,2]\n",
       "    #Right#TreeLeaf curDepth: 2 classLabel: 2 vectors: [[4.0,3.5],[1.5,4.0],[3.0,4.0]] labels: [2,2,2]"
      ]
     },
     "metadata": {},
     "output_type": "display_data"
    }
   ],
   "source": [
    "gen <- newStdGen\n",
    "tree = fitDecisionTree treeSetup {rGen=gen, randomSplitter=True, minSamplesSplit=4, minSamplesLeaf=2} (map vector x) y\n",
    "tree"
   ]
  },
  {
   "cell_type": "code",
   "execution_count": 80,
   "id": "b0d462e3",
   "metadata": {
    "scrolled": true
   },
   "outputs": [
    {
     "data": {
      "text/plain": [
       "[1]"
      ]
     },
     "metadata": {},
     "output_type": "display_data"
    }
   ],
   "source": [
    "xTest = [[1,2]]\n",
    "predict tree (map vector xTest)"
   ]
  },
  {
   "cell_type": "code",
   "execution_count": 81,
   "id": "0438a4b7",
   "metadata": {
    "scrolled": true
   },
   "outputs": [
    {
     "data": {
      "text/plain": [
       "[2]"
      ]
     },
     "metadata": {},
     "output_type": "display_data"
    }
   ],
   "source": [
    "xTest = [[4,2]]\n",
    "predict tree (map vector xTest)"
   ]
  },
  {
   "cell_type": "code",
   "execution_count": 82,
   "id": "8aa56e01",
   "metadata": {},
   "outputs": [
    {
     "data": {
      "text/plain": [
       "#TreeNode curDepth: 1 predicate: x0 < 3.0\n",
       "    #Left#TreeNode curDepth: 2 predicate: x1 < 3.0\n",
       "      #Left#TreeLeaf curDepth: 3 classLabel: 1 vectors: [[1.0,1.0],[3.0,1.5],[1.0,2.0]] labels: [1,1,1]\n",
       "      #Right#TreeLeaf curDepth: 3 classLabel: 2 vectors: [[1.5,4.0]] labels: [2]\n",
       "    #Right#TreeLeaf curDepth: 2 classLabel: 2 vectors: [[3.0,4.0],[4.0,3.5],[4.0,1.2]] labels: [2,2,2]"
      ]
     },
     "metadata": {},
     "output_type": "display_data"
    }
   ],
   "source": [
    "tree = fitDecisionTree treeSetup (map vector x) y\n",
    "tree"
   ]
  },
  {
   "cell_type": "code",
   "execution_count": 88,
   "id": "e6e5b530",
   "metadata": {},
   "outputs": [
    {
     "data": {
      "text/plain": [
       "#TreeNode curDepth: 1 predicate: x0 < 1.5\n",
       "    #Left#TreeLeaf curDepth: 2 classLabel: 0 vectors: [[1.0]] labels: [0]\n",
       "    #Right#TreeNode curDepth: 2 predicate: x0 < 2.5\n",
       "      #Left#TreeLeaf curDepth: 3 classLabel: 1 vectors: [[2.0]] labels: [1]\n",
       "      #Right#TreeNode curDepth: 3 predicate: x0 < 3.5\n",
       "        #Left#TreeLeaf curDepth: 4 classLabel: 2 vectors: [[3.0]] labels: [2]\n",
       "        #Right#TreeLeaf curDepth: 4 classLabel: 3 vectors: [[4.0]] labels: [3]"
      ]
     },
     "metadata": {},
     "output_type": "display_data"
    },
    {
     "data": {
      "text/plain": [
       "[0,1,2,3]"
      ]
     },
     "metadata": {},
     "output_type": "display_data"
    }
   ],
   "source": [
    "x = [[1], [2], [3], [4]]\n",
    "y = [0, 1, 2, 3]\n",
    "tree = fitDecisionTree treeSetup (map vector x) y\n",
    "tree\n",
    "predict tree (map vector [[0], [1.6], [3.3], [10]])"
   ]
  },
  {
   "cell_type": "code",
   "execution_count": null,
   "id": "8a9aeab8",
   "metadata": {},
   "outputs": [],
   "source": []
  },
  {
   "cell_type": "code",
   "execution_count": null,
   "id": "6a8a4a32",
   "metadata": {},
   "outputs": [],
   "source": []
  }
 ],
 "metadata": {
  "kernelspec": {
   "display_name": "Haskell",
   "language": "haskell",
   "name": "haskell"
  },
  "language_info": {
   "codemirror_mode": "ihaskell",
   "file_extension": ".hs",
   "mimetype": "text/x-haskell",
   "name": "haskell",
   "pygments_lexer": "Haskell",
   "version": "8.10.7"
  }
 },
 "nbformat": 4,
 "nbformat_minor": 5
}
